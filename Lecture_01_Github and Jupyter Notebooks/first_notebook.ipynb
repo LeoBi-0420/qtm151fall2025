{
 "cells": [
  {
   "cell_type": "markdown",
   "id": "cdfe4ebc",
   "metadata": {},
   "source": [
    "<font size = \"5\">\n",
    "\n",
    "This is my first Jupyter notebook"
   ]
  },
  {
   "cell_type": "code",
   "execution_count": 4,
   "id": "dc191d03",
   "metadata": {},
   "outputs": [
    {
     "name": "stdout",
     "output_type": "stream",
     "text": [
      "My name is Leo Bi\n"
     ]
    }
   ],
   "source": [
    "print(\"My name is Leo Bi\")"
   ]
  }
 ],
 "metadata": {
  "kernelspec": {
   "display_name": "base",
   "language": "python",
   "name": "python3"
  },
  "language_info": {
   "codemirror_mode": {
    "name": "ipython",
    "version": 3
   },
   "file_extension": ".py",
   "mimetype": "text/x-python",
   "name": "python",
   "nbconvert_exporter": "python",
   "pygments_lexer": "ipython3",
   "version": "3.12.7"
  }
 },
 "nbformat": 4,
 "nbformat_minor": 5
}
